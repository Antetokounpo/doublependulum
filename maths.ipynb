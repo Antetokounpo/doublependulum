{
 "cells": [
  {
   "cell_type": "code",
   "execution_count": 1,
   "id": "ab847f72-08cf-4cc8-ab65-dd7003334b86",
   "metadata": {},
   "outputs": [],
   "source": [
    "%matplotlib inline"
   ]
  },
  {
   "cell_type": "code",
   "execution_count": 2,
   "id": "ef45c540-85b1-48ae-baf2-e55ae3f124de",
   "metadata": {},
   "outputs": [],
   "source": [
    "from sympy import *\n",
    "from IPython.display import display, HTML\n",
    "from rungekutta import R4K\n",
    "import matplotlib.pyplot as plt\n",
    "from matplotlib import animation, rc\n",
    "import numpy as np"
   ]
  },
  {
   "cell_type": "code",
   "execution_count": 3,
   "id": "be024bcf-344f-4178-9691-86cfcc42dfa5",
   "metadata": {},
   "outputs": [
    {
     "data": {
      "text/latex": [
       "$\\displaystyle L_{1} \\sin{\\left(\\theta_{1}{\\left(t \\right)} \\right)}$"
      ],
      "text/plain": [
       "L_1*sin(theta_1(t))"
      ]
     },
     "metadata": {},
     "output_type": "display_data"
    },
    {
     "data": {
      "text/latex": [
       "$\\displaystyle - L_{1} \\cos{\\left(\\theta_{1}{\\left(t \\right)} \\right)} - L_{2} \\cos{\\left(\\theta_{2}{\\left(t \\right)} \\right)}$"
      ],
      "text/plain": [
       "-L_1*cos(theta_1(t)) - L_2*cos(theta_2(t))"
      ]
     },
     "metadata": {},
     "output_type": "display_data"
    },
    {
     "data": {
      "text/latex": [
       "$\\displaystyle L_{1} \\sin{\\left(\\theta_{1}{\\left(t \\right)} \\right)} + L_{2} \\sin{\\left(\\theta_{2}{\\left(t \\right)} \\right)}$"
      ],
      "text/plain": [
       "L_1*sin(theta_1(t)) + L_2*sin(theta_2(t))"
      ]
     },
     "metadata": {},
     "output_type": "display_data"
    },
    {
     "data": {
      "text/latex": [
       "$\\displaystyle - L_{1} \\cos{\\left(\\theta_{1}{\\left(t \\right)} \\right)} - L_{2} \\cos{\\left(\\theta_{2}{\\left(t \\right)} \\right)}$"
      ],
      "text/plain": [
       "-L_1*cos(theta_1(t)) - L_2*cos(theta_2(t))"
      ]
     },
     "metadata": {},
     "output_type": "display_data"
    }
   ],
   "source": [
    "# Les angles sont des fonctions du temps\n",
    "t = symbols('t')\n",
    "th1 = Function('theta_1')(t)\n",
    "th2 = Function('theta_2')(t)\n",
    "\n",
    "# Constantes de longueur\n",
    "l1, l2 = symbols('L_1 L_2')\n",
    "\n",
    "# Fonction de leur position en fonction de l'angle (du temps)\n",
    "x1 = l1 * sin(th1)\n",
    "y1 = -l1 * cos(th1)\n",
    "x2 = x1 + l2*sin(th2)\n",
    "y2 = y1 - l2*cos(th2)\n",
    "\n",
    "display(x1)\n",
    "display(y2)\n",
    "\n",
    "display(x2)\n",
    "display(y2)"
   ]
  },
  {
   "cell_type": "code",
   "execution_count": 4,
   "id": "edf0fcde-fe36-4593-98bd-ac9ace68ae04",
   "metadata": {},
   "outputs": [],
   "source": [
    "# On dérive pour obtenir les vitesses\n",
    "vx1 = diff(x1, t)\n",
    "vy1 = diff(y1, t)\n",
    "vx2 = diff(x2, t)\n",
    "vy2 = diff(y2, t)"
   ]
  },
  {
   "cell_type": "code",
   "execution_count": 5,
   "id": "77d30657-a428-4813-81e4-cb0815956339",
   "metadata": {},
   "outputs": [],
   "source": [
    "# On dérive encore pour obtenir les accélérations\n",
    "ax1 = diff(vx1, t)\n",
    "ay1 = diff(vy1, t)\n",
    "ax2 = diff(vx2, t)\n",
    "ay2 = diff(vy2, t)"
   ]
  },
  {
   "cell_type": "code",
   "execution_count": 6,
   "id": "f7fc5d3a-6b4e-40b4-afa2-291bd4c90f2c",
   "metadata": {},
   "outputs": [
    {
     "data": {
      "text/latex": [
       "$\\displaystyle - L_{1} \\sin{\\left(\\theta_{1}{\\left(t \\right)} \\right)} \\left(\\frac{d}{d t} \\theta_{1}{\\left(t \\right)}\\right)^{2} + L_{1} \\cos{\\left(\\theta_{1}{\\left(t \\right)} \\right)} \\frac{d^{2}}{d t^{2}} \\theta_{1}{\\left(t \\right)}$"
      ],
      "text/plain": [
       "-L_1*sin(theta_1(t))*Derivative(theta_1(t), t)**2 + L_1*cos(theta_1(t))*Derivative(theta_1(t), (t, 2))"
      ]
     },
     "metadata": {},
     "output_type": "display_data"
    },
    {
     "data": {
      "text/latex": [
       "$\\displaystyle L_{1} \\sin{\\left(\\theta_{1}{\\left(t \\right)} \\right)} \\frac{d^{2}}{d t^{2}} \\theta_{1}{\\left(t \\right)} + L_{1} \\cos{\\left(\\theta_{1}{\\left(t \\right)} \\right)} \\left(\\frac{d}{d t} \\theta_{1}{\\left(t \\right)}\\right)^{2}$"
      ],
      "text/plain": [
       "L_1*sin(theta_1(t))*Derivative(theta_1(t), (t, 2)) + L_1*cos(theta_1(t))*Derivative(theta_1(t), t)**2"
      ]
     },
     "metadata": {},
     "output_type": "display_data"
    },
    {
     "data": {
      "text/latex": [
       "$\\displaystyle - L_{1} \\sin{\\left(\\theta_{1}{\\left(t \\right)} \\right)} \\left(\\frac{d}{d t} \\theta_{1}{\\left(t \\right)}\\right)^{2} + L_{1} \\cos{\\left(\\theta_{1}{\\left(t \\right)} \\right)} \\frac{d^{2}}{d t^{2}} \\theta_{1}{\\left(t \\right)} - L_{2} \\sin{\\left(\\theta_{2}{\\left(t \\right)} \\right)} \\left(\\frac{d}{d t} \\theta_{2}{\\left(t \\right)}\\right)^{2} + L_{2} \\cos{\\left(\\theta_{2}{\\left(t \\right)} \\right)} \\frac{d^{2}}{d t^{2}} \\theta_{2}{\\left(t \\right)}$"
      ],
      "text/plain": [
       "-L_1*sin(theta_1(t))*Derivative(theta_1(t), t)**2 + L_1*cos(theta_1(t))*Derivative(theta_1(t), (t, 2)) - L_2*sin(theta_2(t))*Derivative(theta_2(t), t)**2 + L_2*cos(theta_2(t))*Derivative(theta_2(t), (t, 2))"
      ]
     },
     "metadata": {},
     "output_type": "display_data"
    },
    {
     "data": {
      "text/latex": [
       "$\\displaystyle L_{1} \\sin{\\left(\\theta_{1}{\\left(t \\right)} \\right)} \\frac{d^{2}}{d t^{2}} \\theta_{1}{\\left(t \\right)} + L_{1} \\cos{\\left(\\theta_{1}{\\left(t \\right)} \\right)} \\left(\\frac{d}{d t} \\theta_{1}{\\left(t \\right)}\\right)^{2} + L_{2} \\sin{\\left(\\theta_{2}{\\left(t \\right)} \\right)} \\frac{d^{2}}{d t^{2}} \\theta_{2}{\\left(t \\right)} + L_{2} \\cos{\\left(\\theta_{2}{\\left(t \\right)} \\right)} \\left(\\frac{d}{d t} \\theta_{2}{\\left(t \\right)}\\right)^{2}$"
      ],
      "text/plain": [
       "L_1*sin(theta_1(t))*Derivative(theta_1(t), (t, 2)) + L_1*cos(theta_1(t))*Derivative(theta_1(t), t)**2 + L_2*sin(theta_2(t))*Derivative(theta_2(t), (t, 2)) + L_2*cos(theta_2(t))*Derivative(theta_2(t), t)**2"
      ]
     },
     "metadata": {},
     "output_type": "display_data"
    }
   ],
   "source": [
    "for i in [ax1, ay1, ax2, ay2]:\n",
    "    display(i)"
   ]
  },
  {
   "cell_type": "code",
   "execution_count": 7,
   "id": "d7b6ab16-663a-401a-a871-e288555372da",
   "metadata": {},
   "outputs": [],
   "source": [
    "t1, t2 = symbols('T_1 T_2')\n",
    "m1, m2 = symbols('m_1 m_2')\n",
    "g = symbols('g')\n",
    "eqx1 = Eq(m1*ax1, -t1*sin(th1) + t2*sin(th2))\n",
    "eqy1 = Eq(m1*ay1, t1*cos(th1) - t2*cos(th2) - m1*g)\n",
    "\n",
    "eqx2 = Eq(m2*ax2, -t2*sin(th2))\n",
    "eqy2 = Eq(m2*ay2, t2*cos(th2) - m2*g)"
   ]
  },
  {
   "cell_type": "code",
   "execution_count": 8,
   "id": "68c7b52b-9960-4b54-90ed-f9c46d5ea3b9",
   "metadata": {},
   "outputs": [
    {
     "data": {
      "text/latex": [
       "$\\displaystyle m_{1} \\left(- L_{1} \\sin{\\left(\\theta_{1}{\\left(t \\right)} \\right)} \\left(\\frac{d}{d t} \\theta_{1}{\\left(t \\right)}\\right)^{2} + L_{1} \\cos{\\left(\\theta_{1}{\\left(t \\right)} \\right)} \\frac{d^{2}}{d t^{2}} \\theta_{1}{\\left(t \\right)}\\right) = - T_{1} \\sin{\\left(\\theta_{1}{\\left(t \\right)} \\right)} + T_{2} \\sin{\\left(\\theta_{2}{\\left(t \\right)} \\right)}$"
      ],
      "text/plain": [
       "Eq(m_1*(-L_1*sin(theta_1(t))*Derivative(theta_1(t), t)**2 + L_1*cos(theta_1(t))*Derivative(theta_1(t), (t, 2))), -T_1*sin(theta_1(t)) + T_2*sin(theta_2(t)))"
      ]
     },
     "metadata": {},
     "output_type": "display_data"
    },
    {
     "data": {
      "text/latex": [
       "$\\displaystyle m_{1} \\left(L_{1} \\sin{\\left(\\theta_{1}{\\left(t \\right)} \\right)} \\frac{d^{2}}{d t^{2}} \\theta_{1}{\\left(t \\right)} + L_{1} \\cos{\\left(\\theta_{1}{\\left(t \\right)} \\right)} \\left(\\frac{d}{d t} \\theta_{1}{\\left(t \\right)}\\right)^{2}\\right) = T_{1} \\cos{\\left(\\theta_{1}{\\left(t \\right)} \\right)} - T_{2} \\cos{\\left(\\theta_{2}{\\left(t \\right)} \\right)} - g m_{1}$"
      ],
      "text/plain": [
       "Eq(m_1*(L_1*sin(theta_1(t))*Derivative(theta_1(t), (t, 2)) + L_1*cos(theta_1(t))*Derivative(theta_1(t), t)**2), T_1*cos(theta_1(t)) - T_2*cos(theta_2(t)) - g*m_1)"
      ]
     },
     "metadata": {},
     "output_type": "display_data"
    },
    {
     "data": {
      "text/latex": [
       "$\\displaystyle m_{2} \\left(- L_{1} \\sin{\\left(\\theta_{1}{\\left(t \\right)} \\right)} \\left(\\frac{d}{d t} \\theta_{1}{\\left(t \\right)}\\right)^{2} + L_{1} \\cos{\\left(\\theta_{1}{\\left(t \\right)} \\right)} \\frac{d^{2}}{d t^{2}} \\theta_{1}{\\left(t \\right)} - L_{2} \\sin{\\left(\\theta_{2}{\\left(t \\right)} \\right)} \\left(\\frac{d}{d t} \\theta_{2}{\\left(t \\right)}\\right)^{2} + L_{2} \\cos{\\left(\\theta_{2}{\\left(t \\right)} \\right)} \\frac{d^{2}}{d t^{2}} \\theta_{2}{\\left(t \\right)}\\right) = - T_{2} \\sin{\\left(\\theta_{2}{\\left(t \\right)} \\right)}$"
      ],
      "text/plain": [
       "Eq(m_2*(-L_1*sin(theta_1(t))*Derivative(theta_1(t), t)**2 + L_1*cos(theta_1(t))*Derivative(theta_1(t), (t, 2)) - L_2*sin(theta_2(t))*Derivative(theta_2(t), t)**2 + L_2*cos(theta_2(t))*Derivative(theta_2(t), (t, 2))), -T_2*sin(theta_2(t)))"
      ]
     },
     "metadata": {},
     "output_type": "display_data"
    },
    {
     "data": {
      "text/latex": [
       "$\\displaystyle m_{2} \\left(L_{1} \\sin{\\left(\\theta_{1}{\\left(t \\right)} \\right)} \\frac{d^{2}}{d t^{2}} \\theta_{1}{\\left(t \\right)} + L_{1} \\cos{\\left(\\theta_{1}{\\left(t \\right)} \\right)} \\left(\\frac{d}{d t} \\theta_{1}{\\left(t \\right)}\\right)^{2} + L_{2} \\sin{\\left(\\theta_{2}{\\left(t \\right)} \\right)} \\frac{d^{2}}{d t^{2}} \\theta_{2}{\\left(t \\right)} + L_{2} \\cos{\\left(\\theta_{2}{\\left(t \\right)} \\right)} \\left(\\frac{d}{d t} \\theta_{2}{\\left(t \\right)}\\right)^{2}\\right) = T_{2} \\cos{\\left(\\theta_{2}{\\left(t \\right)} \\right)} - g m_{2}$"
      ],
      "text/plain": [
       "Eq(m_2*(L_1*sin(theta_1(t))*Derivative(theta_1(t), (t, 2)) + L_1*cos(theta_1(t))*Derivative(theta_1(t), t)**2 + L_2*sin(theta_2(t))*Derivative(theta_2(t), (t, 2)) + L_2*cos(theta_2(t))*Derivative(theta_2(t), t)**2), T_2*cos(theta_2(t)) - g*m_2)"
      ]
     },
     "metadata": {},
     "output_type": "display_data"
    }
   ],
   "source": [
    "for i in [eqx1, eqy1, eqx2, eqy2]:\n",
    "    display(i)"
   ]
  },
  {
   "cell_type": "code",
   "execution_count": 9,
   "id": "217a784a-7eea-441b-9f06-be1b76d2d1d9",
   "metadata": {},
   "outputs": [],
   "source": [
    "t2sin = solve(eqx2, t2*sin(th2))[0]\n",
    "t2cos = solve(eqy2, t2*cos(th2))[0]"
   ]
  },
  {
   "cell_type": "code",
   "execution_count": 10,
   "id": "55071c25-827c-474d-9dfe-2868ac022854",
   "metadata": {},
   "outputs": [],
   "source": [
    "eqx1 = eqx1.subs(t2*sin(th2), t2sin)\n",
    "eqy1 = eqy1.subs(t2*cos(th2), t2cos)"
   ]
  },
  {
   "cell_type": "code",
   "execution_count": 11,
   "id": "9f30a6ec-0953-462a-a896-076be9e70bc0",
   "metadata": {},
   "outputs": [
    {
     "data": {
      "text/latex": [
       "$\\displaystyle m_{1} \\left(- L_{1} \\sin{\\left(\\theta_{1}{\\left(t \\right)} \\right)} \\left(\\frac{d}{d t} \\theta_{1}{\\left(t \\right)}\\right)^{2} + L_{1} \\cos{\\left(\\theta_{1}{\\left(t \\right)} \\right)} \\frac{d^{2}}{d t^{2}} \\theta_{1}{\\left(t \\right)}\\right) = - T_{1} \\sin{\\left(\\theta_{1}{\\left(t \\right)} \\right)} + m_{2} \\left(L_{1} \\sin{\\left(\\theta_{1}{\\left(t \\right)} \\right)} \\left(\\frac{d}{d t} \\theta_{1}{\\left(t \\right)}\\right)^{2} - L_{1} \\cos{\\left(\\theta_{1}{\\left(t \\right)} \\right)} \\frac{d^{2}}{d t^{2}} \\theta_{1}{\\left(t \\right)} + L_{2} \\sin{\\left(\\theta_{2}{\\left(t \\right)} \\right)} \\left(\\frac{d}{d t} \\theta_{2}{\\left(t \\right)}\\right)^{2} - L_{2} \\cos{\\left(\\theta_{2}{\\left(t \\right)} \\right)} \\frac{d^{2}}{d t^{2}} \\theta_{2}{\\left(t \\right)}\\right)$"
      ],
      "text/plain": [
       "Eq(m_1*(-L_1*sin(theta_1(t))*Derivative(theta_1(t), t)**2 + L_1*cos(theta_1(t))*Derivative(theta_1(t), (t, 2))), -T_1*sin(theta_1(t)) + m_2*(L_1*sin(theta_1(t))*Derivative(theta_1(t), t)**2 - L_1*cos(theta_1(t))*Derivative(theta_1(t), (t, 2)) + L_2*sin(theta_2(t))*Derivative(theta_2(t), t)**2 - L_2*cos(theta_2(t))*Derivative(theta_2(t), (t, 2))))"
      ]
     },
     "metadata": {},
     "output_type": "display_data"
    },
    {
     "data": {
      "text/latex": [
       "$\\displaystyle m_{1} \\left(L_{1} \\sin{\\left(\\theta_{1}{\\left(t \\right)} \\right)} \\frac{d^{2}}{d t^{2}} \\theta_{1}{\\left(t \\right)} + L_{1} \\cos{\\left(\\theta_{1}{\\left(t \\right)} \\right)} \\left(\\frac{d}{d t} \\theta_{1}{\\left(t \\right)}\\right)^{2}\\right) = T_{1} \\cos{\\left(\\theta_{1}{\\left(t \\right)} \\right)} - g m_{1} - m_{2} \\left(L_{1} \\sin{\\left(\\theta_{1}{\\left(t \\right)} \\right)} \\frac{d^{2}}{d t^{2}} \\theta_{1}{\\left(t \\right)} + L_{1} \\cos{\\left(\\theta_{1}{\\left(t \\right)} \\right)} \\left(\\frac{d}{d t} \\theta_{1}{\\left(t \\right)}\\right)^{2} + L_{2} \\sin{\\left(\\theta_{2}{\\left(t \\right)} \\right)} \\frac{d^{2}}{d t^{2}} \\theta_{2}{\\left(t \\right)} + L_{2} \\cos{\\left(\\theta_{2}{\\left(t \\right)} \\right)} \\left(\\frac{d}{d t} \\theta_{2}{\\left(t \\right)}\\right)^{2} + g\\right)$"
      ],
      "text/plain": [
       "Eq(m_1*(L_1*sin(theta_1(t))*Derivative(theta_1(t), (t, 2)) + L_1*cos(theta_1(t))*Derivative(theta_1(t), t)**2), T_1*cos(theta_1(t)) - g*m_1 - m_2*(L_1*sin(theta_1(t))*Derivative(theta_1(t), (t, 2)) + L_1*cos(theta_1(t))*Derivative(theta_1(t), t)**2 + L_2*sin(theta_2(t))*Derivative(theta_2(t), (t, 2)) + L_2*cos(theta_2(t))*Derivative(theta_2(t), t)**2 + g))"
      ]
     },
     "metadata": {},
     "output_type": "display_data"
    }
   ],
   "source": [
    "for i in [eqx1, eqy1]:\n",
    "    display(i)"
   ]
  },
  {
   "cell_type": "code",
   "execution_count": 12,
   "id": "191b907d-6bfa-4490-9707-947e9842bed4",
   "metadata": {},
   "outputs": [],
   "source": [
    "t1_1 = solve(eqx1, t1)[0]\n",
    "t1_2 = solve(eqy1, t1)[0]"
   ]
  },
  {
   "cell_type": "code",
   "execution_count": 13,
   "id": "5c5a6e2b-4707-410b-909b-8659fc84c625",
   "metadata": {},
   "outputs": [
    {
     "data": {
      "text/latex": [
       "$\\displaystyle \\frac{- L_{1} m_{1} \\cos{\\left(\\theta_{1}{\\left(t \\right)} \\right)} \\frac{d^{2}}{d t^{2}} \\theta_{1}{\\left(t \\right)} - L_{1} m_{2} \\cos{\\left(\\theta_{1}{\\left(t \\right)} \\right)} \\frac{d^{2}}{d t^{2}} \\theta_{1}{\\left(t \\right)} + L_{1} \\left(m_{1} + m_{2}\\right) \\sin{\\left(\\theta_{1}{\\left(t \\right)} \\right)} \\left(\\frac{d}{d t} \\theta_{1}{\\left(t \\right)}\\right)^{2} + L_{2} m_{2} \\sin{\\left(\\theta_{2}{\\left(t \\right)} \\right)} \\left(\\frac{d}{d t} \\theta_{2}{\\left(t \\right)}\\right)^{2} - L_{2} m_{2} \\cos{\\left(\\theta_{2}{\\left(t \\right)} \\right)} \\frac{d^{2}}{d t^{2}} \\theta_{2}{\\left(t \\right)}}{\\sin{\\left(\\theta_{1}{\\left(t \\right)} \\right)}} = \\frac{L_{1} m_{1} \\sin{\\left(\\theta_{1}{\\left(t \\right)} \\right)} \\frac{d^{2}}{d t^{2}} \\theta_{1}{\\left(t \\right)} + L_{1} m_{2} \\sin{\\left(\\theta_{1}{\\left(t \\right)} \\right)} \\frac{d^{2}}{d t^{2}} \\theta_{1}{\\left(t \\right)} + L_{1} \\left(m_{1} + m_{2}\\right) \\cos{\\left(\\theta_{1}{\\left(t \\right)} \\right)} \\left(\\frac{d}{d t} \\theta_{1}{\\left(t \\right)}\\right)^{2} + L_{2} m_{2} \\sin{\\left(\\theta_{2}{\\left(t \\right)} \\right)} \\frac{d^{2}}{d t^{2}} \\theta_{2}{\\left(t \\right)} + L_{2} m_{2} \\cos{\\left(\\theta_{2}{\\left(t \\right)} \\right)} \\left(\\frac{d}{d t} \\theta_{2}{\\left(t \\right)}\\right)^{2} + g m_{1} + g m_{2}}{\\cos{\\left(\\theta_{1}{\\left(t \\right)} \\right)}}$"
      ],
      "text/plain": [
       "Eq((-L_1*m_1*cos(theta_1(t))*Derivative(theta_1(t), (t, 2)) - L_1*m_2*cos(theta_1(t))*Derivative(theta_1(t), (t, 2)) + L_1*(m_1 + m_2)*sin(theta_1(t))*Derivative(theta_1(t), t)**2 + L_2*m_2*sin(theta_2(t))*Derivative(theta_2(t), t)**2 - L_2*m_2*cos(theta_2(t))*Derivative(theta_2(t), (t, 2)))/sin(theta_1(t)), (L_1*m_1*sin(theta_1(t))*Derivative(theta_1(t), (t, 2)) + L_1*m_2*sin(theta_1(t))*Derivative(theta_1(t), (t, 2)) + L_1*(m_1 + m_2)*cos(theta_1(t))*Derivative(theta_1(t), t)**2 + L_2*m_2*sin(theta_2(t))*Derivative(theta_2(t), (t, 2)) + L_2*m_2*cos(theta_2(t))*Derivative(theta_2(t), t)**2 + g*m_1 + g*m_2)/cos(theta_1(t)))"
      ]
     },
     "execution_count": 13,
     "metadata": {},
     "output_type": "execute_result"
    }
   ],
   "source": [
    "eq1 = Eq(t1_1, t1_2)\n",
    "eq1"
   ]
  },
  {
   "cell_type": "code",
   "execution_count": 14,
   "id": "6e6f6be5-2195-4580-ab28-984e237bbc92",
   "metadata": {},
   "outputs": [
    {
     "data": {
      "text/latex": [
       "$\\displaystyle \\frac{m_{2} \\left(L_{1} \\sin{\\left(\\theta_{1}{\\left(t \\right)} \\right)} \\left(\\frac{d}{d t} \\theta_{1}{\\left(t \\right)}\\right)^{2} - L_{1} \\cos{\\left(\\theta_{1}{\\left(t \\right)} \\right)} \\frac{d^{2}}{d t^{2}} \\theta_{1}{\\left(t \\right)} + L_{2} \\sin{\\left(\\theta_{2}{\\left(t \\right)} \\right)} \\left(\\frac{d}{d t} \\theta_{2}{\\left(t \\right)}\\right)^{2} - L_{2} \\cos{\\left(\\theta_{2}{\\left(t \\right)} \\right)} \\frac{d^{2}}{d t^{2}} \\theta_{2}{\\left(t \\right)}\\right)}{\\sin{\\left(\\theta_{2}{\\left(t \\right)} \\right)}} = \\frac{m_{2} \\left(L_{1} \\sin{\\left(\\theta_{1}{\\left(t \\right)} \\right)} \\frac{d^{2}}{d t^{2}} \\theta_{1}{\\left(t \\right)} + L_{1} \\cos{\\left(\\theta_{1}{\\left(t \\right)} \\right)} \\left(\\frac{d}{d t} \\theta_{1}{\\left(t \\right)}\\right)^{2} + L_{2} \\sin{\\left(\\theta_{2}{\\left(t \\right)} \\right)} \\frac{d^{2}}{d t^{2}} \\theta_{2}{\\left(t \\right)} + L_{2} \\cos{\\left(\\theta_{2}{\\left(t \\right)} \\right)} \\left(\\frac{d}{d t} \\theta_{2}{\\left(t \\right)}\\right)^{2} + g\\right)}{\\cos{\\left(\\theta_{2}{\\left(t \\right)} \\right)}}$"
      ],
      "text/plain": [
       "Eq(m_2*(L_1*sin(theta_1(t))*Derivative(theta_1(t), t)**2 - L_1*cos(theta_1(t))*Derivative(theta_1(t), (t, 2)) + L_2*sin(theta_2(t))*Derivative(theta_2(t), t)**2 - L_2*cos(theta_2(t))*Derivative(theta_2(t), (t, 2)))/sin(theta_2(t)), m_2*(L_1*sin(theta_1(t))*Derivative(theta_1(t), (t, 2)) + L_1*cos(theta_1(t))*Derivative(theta_1(t), t)**2 + L_2*sin(theta_2(t))*Derivative(theta_2(t), (t, 2)) + L_2*cos(theta_2(t))*Derivative(theta_2(t), t)**2 + g)/cos(theta_2(t)))"
      ]
     },
     "execution_count": 14,
     "metadata": {},
     "output_type": "execute_result"
    }
   ],
   "source": [
    "t2_1 = solve(eqx2, t2)[0]\n",
    "t2_2 = solve(eqy2, t2)[0]\n",
    "eq2 = Eq(t2_1, t2_2)\n",
    "eq2"
   ]
  },
  {
   "cell_type": "code",
   "execution_count": 15,
   "id": "96d2426d-b537-44cb-b4f2-29a3f1455eb0",
   "metadata": {},
   "outputs": [
    {
     "data": {
      "text/latex": [
       "$\\displaystyle \\frac{d^{2}}{d t^{2}} \\theta_{1}{\\left(t \\right)}$"
      ],
      "text/plain": [
       "Derivative(theta_1(t), (t, 2))"
      ]
     },
     "metadata": {},
     "output_type": "display_data"
    },
    {
     "name": "stdout",
     "output_type": "stream",
     "text": [
      "=\n"
     ]
    },
    {
     "data": {
      "text/latex": [
       "$\\displaystyle \\frac{L_{1} m_{2} \\sin{\\left(2 \\theta_{1}{\\left(t \\right)} - 2 \\theta_{2}{\\left(t \\right)} \\right)} \\left(\\frac{d}{d t} \\theta_{1}{\\left(t \\right)}\\right)^{2} + 2 L_{2} m_{2} \\sin{\\left(\\theta_{1}{\\left(t \\right)} - \\theta_{2}{\\left(t \\right)} \\right)} \\left(\\frac{d}{d t} \\theta_{2}{\\left(t \\right)}\\right)^{2} + 2 g m_{1} \\sin{\\left(\\theta_{1}{\\left(t \\right)} \\right)} + g m_{2} \\sin{\\left(\\theta_{1}{\\left(t \\right)} - 2 \\theta_{2}{\\left(t \\right)} \\right)} + g m_{2} \\sin{\\left(\\theta_{1}{\\left(t \\right)} \\right)}}{L_{1} \\left(- 2 m_{1} + m_{2} \\cos{\\left(2 \\theta_{1}{\\left(t \\right)} - 2 \\theta_{2}{\\left(t \\right)} \\right)} - m_{2}\\right)}$"
      ],
      "text/plain": [
       "(L_1*m_2*sin(2*theta_1(t) - 2*theta_2(t))*Derivative(theta_1(t), t)**2 + 2*L_2*m_2*sin(theta_1(t) - theta_2(t))*Derivative(theta_2(t), t)**2 + 2*g*m_1*sin(theta_1(t)) + g*m_2*sin(theta_1(t) - 2*theta_2(t)) + g*m_2*sin(theta_1(t)))/(L_1*(-2*m_1 + m_2*cos(2*theta_1(t) - 2*theta_2(t)) - m_2))"
      ]
     },
     "metadata": {},
     "output_type": "display_data"
    },
    {
     "data": {
      "text/latex": [
       "$\\displaystyle \\frac{d^{2}}{d t^{2}} \\theta_{2}{\\left(t \\right)}$"
      ],
      "text/plain": [
       "Derivative(theta_2(t), (t, 2))"
      ]
     },
     "metadata": {},
     "output_type": "display_data"
    },
    {
     "name": "stdout",
     "output_type": "stream",
     "text": [
      "=\n"
     ]
    },
    {
     "data": {
      "text/latex": [
       "$\\displaystyle \\frac{- 2 L_{1} m_{1} \\sin{\\left(\\theta_{1}{\\left(t \\right)} - \\theta_{2}{\\left(t \\right)} \\right)} \\left(\\frac{d}{d t} \\theta_{1}{\\left(t \\right)}\\right)^{2} - 2 L_{1} m_{2} \\sin{\\left(\\theta_{1}{\\left(t \\right)} - \\theta_{2}{\\left(t \\right)} \\right)} \\left(\\frac{d}{d t} \\theta_{1}{\\left(t \\right)}\\right)^{2} - L_{2} m_{2} \\sin{\\left(2 \\theta_{1}{\\left(t \\right)} - 2 \\theta_{2}{\\left(t \\right)} \\right)} \\left(\\frac{d}{d t} \\theta_{2}{\\left(t \\right)}\\right)^{2} - g m_{1} \\sin{\\left(2 \\theta_{1}{\\left(t \\right)} - \\theta_{2}{\\left(t \\right)} \\right)} + g m_{1} \\sin{\\left(\\theta_{2}{\\left(t \\right)} \\right)} - g m_{2} \\sin{\\left(2 \\theta_{1}{\\left(t \\right)} - \\theta_{2}{\\left(t \\right)} \\right)} + g m_{2} \\sin{\\left(\\theta_{2}{\\left(t \\right)} \\right)}}{L_{2} \\left(- 2 m_{1} + m_{2} \\cos{\\left(2 \\theta_{1}{\\left(t \\right)} - 2 \\theta_{2}{\\left(t \\right)} \\right)} - m_{2}\\right)}$"
      ],
      "text/plain": [
       "(-2*L_1*m_1*sin(theta_1(t) - theta_2(t))*Derivative(theta_1(t), t)**2 - 2*L_1*m_2*sin(theta_1(t) - theta_2(t))*Derivative(theta_1(t), t)**2 - L_2*m_2*sin(2*theta_1(t) - 2*theta_2(t))*Derivative(theta_2(t), t)**2 - g*m_1*sin(2*theta_1(t) - theta_2(t)) + g*m_1*sin(theta_2(t)) - g*m_2*sin(2*theta_1(t) - theta_2(t)) + g*m_2*sin(theta_2(t)))/(L_2*(-2*m_1 + m_2*cos(2*theta_1(t) - 2*theta_2(t)) - m_2))"
      ]
     },
     "metadata": {},
     "output_type": "display_data"
    }
   ],
   "source": [
    "for i, j in solve((eq1, eq2), (th1.diff(t, 2), th2.diff(t, 2))).items():\n",
    "    display(i)\n",
    "    print('=')\n",
    "    display(simplify(j))\n",
    "th1_tt, th2_tt = map(simplify, solve((eq1, eq2), (th1.diff(t, 2), th2.diff(t, 2))).values())"
   ]
  },
  {
   "cell_type": "markdown",
   "id": "252ce58a",
   "metadata": {},
   "source": [
    "# Exemple"
   ]
  },
  {
   "cell_type": "code",
   "execution_count": 16,
   "id": "10c54ef0-bd62-4042-ade0-b7cf61fd311e",
   "metadata": {},
   "outputs": [],
   "source": [
    "ll1 = 1\n",
    "ll2 = 1\n",
    "mm1 = 1\n",
    "mm2 = 2\n",
    "gg = 9.8\n",
    "\n",
    "th1_tt = th1_tt.subs(((g, gg), (l1, ll1), (l2, ll2), (m1, mm1), (m2, mm2)))\n",
    "th2_tt = th2_tt.subs(((g, gg), (l1, ll1), (l2, ll2), (m1, mm1), (m2, mm2)))\n",
    "omega1, omega2 = symbols('omega_1 omega_2')\n",
    "th1_tt = th1_tt.subs(((th1.diff(t), omega1), (th2.diff(t), omega2)))\n",
    "th2_tt = th2_tt.subs(((th1.diff(t), omega1), (th2.diff(t), omega2)))"
   ]
  },
  {
   "cell_type": "code",
   "execution_count": 17,
   "id": "af8b239d-27ca-4e25-aa8b-adb635d82e31",
   "metadata": {},
   "outputs": [],
   "source": [
    "def omega_1(t, th1, th2, omeg1, omeg2):\n",
    "    return omeg1\n",
    "def omega_2(t, th1, th2, omeg1, omeg2):\n",
    "    return omeg2\n",
    "\n",
    "def alpha_1(time, t1, t2, omeg1, omeg2):\n",
    "    return th1_tt.subs(((th1, t1), (th2, t2), (omega1, omeg1), (omega2, omeg2))).evalf()\n",
    "def alpha_2(time, t1, t2, omeg1, omeg2):\n",
    "    return th2_tt.subs(((th1, t1), (th2, t2), (omega1, omeg1), (omega2, omeg2))).evalf()"
   ]
  },
  {
   "cell_type": "code",
   "execution_count": 18,
   "id": "67c0e8d3-be1e-4491-9b0c-b34e85ff8324",
   "metadata": {},
   "outputs": [],
   "source": [
    "r4k = R4K(0.25, omega_1, omega_2, alpha_1, alpha_2)\n",
    "r4k.set_init_vars(0, np.pi/2, 0, 0, 0)"
   ]
  },
  {
   "cell_type": "code",
   "execution_count": 19,
   "id": "3154877c-b47e-47d1-900b-9580b9208c98",
   "metadata": {},
   "outputs": [
    {
     "data": {
      "image/png": "[encoded data removed]",
      "text/plain": [
       "<Figure size 432x288 with 1 Axes>"
      ]
     },
     "metadata": {
      "needs_background": "light"
     },
     "output_type": "display_data"
    }
   ],
   "source": [
    "class_pts = []\n",
    "for _ in range(100):\n",
    "    n = r4k.step()\n",
    "    class_pts.append(tuple(n))\n",
    "\n",
    "class_pts = list(zip(*class_pts))\n",
    "xs = class_pts[0]\n",
    "for i in class_pts[1:3]:\n",
    "    plt.plot(xs, i, 'o')\n"
   ]
  },
  {
   "cell_type": "code",
   "execution_count": null,
   "id": "11cf6433-56c5-4f39-911d-4a860f3f6b3d",
   "metadata": {},
   "outputs": [],
   "source": []
  }
 ],
 "metadata": {
  "kernelspec": {
   "display_name": "Python 3",
   "language": "python",
   "name": "python3"
  },
  "language_info": {
   "codemirror_mode": {
    "name": "ipython",
    "version": 3
   },
   "file_extension": ".py",
   "mimetype": "text/x-python",
   "name": "python",
   "nbconvert_exporter": "python",
   "pygments_lexer": "ipython3",
   "version": "3.9.9"
  }
 },
 "nbformat": 4,
 "nbformat_minor": 5
}
